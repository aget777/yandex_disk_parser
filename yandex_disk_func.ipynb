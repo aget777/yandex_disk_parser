{
 "cells": [
  {
   "cell_type": "code",
   "execution_count": null,
   "id": "aa20d6c3-bfff-4f45-8a5e-38fd0e46cb12",
   "metadata": {},
   "outputs": [],
   "source": [
    "import pandas as pd\n",
    "from io import BytesIO\n",
    "import requests\n",
    "from urllib.parse import urlencode\n",
    "import urllib\n",
    "from requests.auth import HTTPBasicAuth\n",
    "from requests.exceptions import ChunkedEncodingError\n",
    "import os\n",
    "import json\n",
    "import yadisk\n",
    "from datetime import datetime, date, timedelta\n",
    "import locale\n",
    "from time import sleep\n",
    "import shutil\n",
    "import gc\n",
    "import gc\n",
    "from pandas.api.types import is_string_dtype\n",
    "import numpy as np\n",
    "import warnings\n",
    "\n",
    "\n",
    "# УРЛ для операций над опубликованными папками и файлами на Яндекс Диске\n",
    "base_public_url = 'https://cloud-api.yandex.net/v1/disk/public/resources?'  \n",
    "\n",
    "download_url = 'https://cloud-api.yandex.net/v1/disk/public/resources/download?' # УРЛ для скачивания эксель файлов из Яндекс Диска\n",
    "delete_url = 'https://cloud-api.yandex.net/v1/disk/resources?' # УРЛ для удаления папок и файлов на Яндекс Диске"
   ]
  },
  {
   "cell_type": "code",
   "execution_count": null,
   "id": "c0b7bfa2-ead7-4d61-813b-3b55350bb3f3",
   "metadata": {},
   "outputs": [],
   "source": [
    "def get_yandex_disk_folders(public_key):\n",
    "    \n",
    "    final_url = base_public_url + urlencode(dict(public_key=public_key))  # Формируем УРЛ для получения списка папок и файлов\n",
    "    res = requests.get(final_url)  # Отправлем запрос на Яндекс диск, чтобы получить название папок и public key для скачивания файлов\n",
    "    \n",
    "    print(res.status_code)\n",
    "    \n",
    "    return res # парсим ответ"
   ]
  },
  {
   "cell_type": "code",
   "execution_count": null,
   "id": "bad515e6-c30a-4153-96a0-e5ba2c8ca951",
   "metadata": {},
   "outputs": [],
   "source": [
    "# Создаем функцию для получения содержимого Яндекс диска\n",
    "#  на входе принимаем \n",
    "# - адрес запроса для скачивания файла\n",
    "# - public key, который мы получаем из ответа Яндекс при запросе информации по конкретной папке\n",
    "# - адрес папки\n",
    "# - лимит файлов (максимальное кол-во 80)\n",
    "def get_yandex_disk_responce(request_url, public_key, folder_path, limit=80):\n",
    "    res_url = request_url + urlencode(dict(public_key=public_key, path=folder_path, limit=limit)) # формируем строку запроса\n",
    "    res = requests.get(res_url) # отправляем запрос на сервер\n",
    "    yandex_responce = res.json() # получаем ответ и преобразуем его в json\n",
    "\n",
    "    return yandex_responce"
   ]
  },
  {
   "cell_type": "code",
   "execution_count": null,
   "id": "d7a551cb-6601-4b55-a20b-2c37539a0daf",
   "metadata": {},
   "outputs": [],
   "source": [
    "# создаем функцию для удаления файлов после загрузки из Яндекс Диска\n",
    "# мы удаляем только те файлы, которые были загружены\n",
    "# как пример - Если название файла не соответствует согласованному, то такой файл НЕ будет загружен в БД\n",
    "# соответсвенно он НЕ будет удален из папки\n",
    "# и по итогу мы увидим, какие новые НЕ согласованные файлы остались НЕ загруженными\n",
    "\n",
    "def delete_yandex_disk_file(main_folder, file_path, yandex_token):\n",
    "    # final_delete_url = '' # создаем пустую строковую переменную для формирования пути удаления файлов\n",
    "    url_path = urlencode(dict(path=main_folder+file_path)) # кодируем полный путь к файлу вместе с его названием\n",
    "    \n",
    "    # добавляем флаг permanently=True для полного удаления файлов\n",
    "    final_delete_url = delete_url + url_path + '&permanently=True'\n",
    "    # формируем заголовки для дальнейших запросов\n",
    "    headers = {\n",
    "        'Content-Type': 'application/json', \n",
    "        'Accept': 'application/json', \n",
    "        'Authorization': f'OAuth {yandex_token}'\n",
    "    }\n",
    "    \n",
    "    requests.delete(final_delete_url, headers=headers) #вызываем метод delete для удаления"
   ]
  },
  {
   "cell_type": "code",
   "execution_count": null,
   "id": "96959341-9e61-4633-a4b0-de31c4af17a8",
   "metadata": {},
   "outputs": [],
   "source": []
  },
  {
   "cell_type": "code",
   "execution_count": null,
   "id": "03ccc892-654a-4fa2-ada0-11ed28df204b",
   "metadata": {},
   "outputs": [],
   "source": []
  }
 ],
 "metadata": {
  "kernelspec": {
   "display_name": "Python 3 (ipykernel)",
   "language": "python",
   "name": "python3"
  },
  "language_info": {
   "codemirror_mode": {
    "name": "ipython",
    "version": 3
   },
   "file_extension": ".py",
   "mimetype": "text/x-python",
   "name": "python",
   "nbconvert_exporter": "python",
   "pygments_lexer": "ipython3",
   "version": "3.11.7"
  }
 },
 "nbformat": 4,
 "nbformat_minor": 5
}
