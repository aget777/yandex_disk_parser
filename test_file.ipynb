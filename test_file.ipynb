{
 "cells": [
  {
   "cell_type": "code",
   "execution_count": 119,
   "id": "c2ec9645-994c-48eb-83fe-1353d8d28a79",
   "metadata": {},
   "outputs": [
    {
     "name": "stdout",
     "output_type": "stream",
     "text": [
      "200\n"
     ]
    }
   ],
   "source": [
    "import pandas as pd\n",
    "from io import BytesIO\n",
    "import requests\n",
    "from urllib.parse import urlencode\n",
    "import urllib\n",
    "from requests.auth import HTTPBasicAuth\n",
    "from requests.exceptions import ChunkedEncodingError\n",
    "import os\n",
    "import json\n",
    "import yadisk\n",
    "from datetime import datetime, date, timedelta\n",
    "import locale\n",
    "from time import sleep\n",
    "import shutil\n",
    "import gc\n",
    "import turbodbc\n",
    "from turbodbc import connect\n",
    "import gc\n",
    "from pandas.api.types import is_string_dtype\n",
    "import numpy as np\n",
    "from sqlalchemy import create_engine\n",
    "import pyodbc\n",
    "import warnings\n",
    "\n",
    "\n",
    "pd.options.mode.chained_assignment = None\n",
    "\n",
    "\n",
    "# параметры подключения к нашей БД, в которую сохранить итоговые таблицы\n",
    "server_local = 'REGRU-54856\\MSSQLSERVER01'\n",
    "database_local = 'custom_tables_NL_2208' #'custom_tables_NL_2208' - БД для тестовой загрузки / 'NL_db_27082024' - БД для дашбодра НЛ\n",
    "conn_str_local = 'DRIVER={SQL Server};SERVER='+server_local+';DATABASE='+database_local+';'\n",
    "\n",
    "# указываем путь и название файла с токеном для Яндекс Диск\n",
    "file_path = r'C:\\Users\\o.bogomolov\\Desktop\\Jupyter_notebook\\32_NL_Yandex_Disk'\n",
    "file_name = 'yandex_token.txt'\n",
    "\n",
    "# сохраняем токен в отдельную переменную\n",
    "yandex_token = open(os.path.join(file_path, file_name), encoding='utf-8').read()\n",
    "# формируем заголовки для дальнейших запросов\n",
    "headers = {\n",
    "    'Content-Type': 'application/json', \n",
    "    'Accept': 'application/json', \n",
    "    'Authorization': f'OAuth {yandex_token}'\n",
    "}\n",
    "\n",
    "# указываем путь к основной папке, в которой храняться папки с флайтами\n",
    "main_folder = '/NL_отчеты_для_дашборда'\n",
    "\n",
    "# УРЛ для операций над опубликованными папками и файлами на Яндекс Диске\n",
    "base_public_url = 'https://cloud-api.yandex.net/v1/disk/public/resources?'  \n",
    "public_key = 'https://disk.yandex.ru/d/2iYr8zMm9Qgeug' # обычная ссылка на доступ к папке одного данного ФЛАЙТА из личного кабинета\n",
    "\n",
    "download_url = 'https://cloud-api.yandex.net/v1/disk/public/resources/download?' # УРЛ для скачивания эксель файлов из Яндекс Диска\n",
    "delete_url = 'https://cloud-api.yandex.net/v1/disk/resources?' # УРЛ для удаления папок и файлов на Яндекс Диске\n",
    "\n",
    "final_url = base_public_url + urlencode(dict(public_key=public_key))  # Формируем УРЛ для получения списка папок и файлов\n",
    "res = requests.get(final_url)  # Отправлем запрос на Яндекс диск, чтобы получить название папок и public key для скачивания файлов\n",
    "\n",
    "print(res.status_code)\n",
    "\n",
    "yandex_folders = res.json() # парсим ответ"
   ]
  },
  {
   "cell_type": "code",
   "execution_count": 120,
   "id": "161bc03c-7528-4267-afb3-77a959c63d2a",
   "metadata": {},
   "outputs": [],
   "source": [
    "# Включаем отображение всех колонок\n",
    "pd.set_option('display.max_columns', None)\n",
    "\n",
    "# Задаем ширину столбцов по контенту\n",
    "pd.set_option('display.max_colwidth', None)\n",
    "\n",
    "pd.set_option('display.max_rows', None)\n",
    "\n",
    "pd.options.mode.chained_assignment = None"
   ]
  },
  {
   "cell_type": "code",
   "execution_count": 121,
   "id": "90a48357-4332-403f-9371-9242811751e7",
   "metadata": {},
   "outputs": [],
   "source": [
    "# Создаем функцию для получения содержимого Яндекс диска\n",
    "#  на входе принимаем \n",
    "# - адрес запроса для скачивания файла\n",
    "# - public key, который мы получаем из ответа Яндекс при запросе информации по конкретной папке\n",
    "# - адрес папки\n",
    "# - лимит файлов (максимальное кол-во 80)\n",
    "def get_yandex_disk_responce(request_url, public_key, folder_path, limit=80):\n",
    "    res_url = request_url + urlencode(dict(public_key=public_key, path=folder_path, limit=limit)) # формируем строку запроса\n",
    "    res = requests.get(res_url) # отправляем запрос на сервер\n",
    "    yandex_responce = res.json() # получаем ответ и преобразуем его в json\n",
    "\n",
    "    return yandex_responce"
   ]
  },
  {
   "cell_type": "code",
   "execution_count": 122,
   "id": "1d99e039-3857-44da-a335-3d8ecec1af91",
   "metadata": {},
   "outputs": [
    {
     "name": "stdout",
     "output_type": "stream",
     "text": [
      "/01_new_sources_files\n",
      "/02_regular_reports\n",
      "one_target_video\n"
     ]
    }
   ],
   "source": [
    "public_key = yandex_folders['public_key']  # из ответа Яндекс забираем public_key, чтобы использовать его для скачивания файлов\n",
    "\n",
    "for i in range(len(yandex_folders['_embedded']['items'])): # через цикл проходим по ответу Яндекса и забираем названия вложенных папок\n",
    "    file_type = yandex_folders['_embedded']['items'][i]['type']\n",
    "    if file_type=='dir':   # если находим файлы с типом dir (папка), то забираем путь к этой папке\n",
    "        folder_path = yandex_folders['_embedded']['items'][i]['path']\n",
    "        print(folder_path)\n",
    "        yandex_responce = get_yandex_disk_responce(base_public_url, public_key, folder_path) # отправляем запрос, чтобы получить содержимое папки\n",
    "\n",
    "        # Через цикл проходим по папке с файлами\n",
    "        # Нас интересуют файлы эксель. Причем каждая экселька будет парситься по своему, т.к. они относятся к разным рекламным площадкам\n",
    "        \n",
    "        # Проходим через цикл по содержимому папки (отдельный флайт)\n",
    "        for i in range(len(yandex_responce['_embedded']['items'])):\n",
    "            file_info = yandex_responce['_embedded']['items'][i]\n",
    "            if file_info['type']=='file':  # если документ является фалйом(не папкой или изображением), то забираем его название \n",
    "                file_name = file_info['name'] # сохраняем название файла\n",
    "                if 'xls' in file_name: # еслит тип файла является xlsx, то уберем расширение и будем его использовать в качесвте названия отчета\n",
    "                    file_path = file_info['path']\n",
    "                    \n",
    "                    report_name = '.'.join(file_name.split('.')[:-1]) # убираем .xlsx из названия файла\n",
    "                    print(report_name)\n",
    "                    res_file_link = get_yandex_disk_responce(download_url, public_key, file_path) # получаем ссылку на скачивание отчета\n",
    "                    download_response = requests.get(res_file_link['href'])"
   ]
  },
  {
   "cell_type": "code",
   "execution_count": 123,
   "id": "72300c65-9a91-4fae-ac0b-e42eb32378fa",
   "metadata": {},
   "outputs": [],
   "source": [
    "data_link = download_response.content"
   ]
  },
  {
   "cell_type": "code",
   "execution_count": 124,
   "id": "5e2c698f-ed11-41c0-afa7-3c6ee4cd1bda",
   "metadata": {},
   "outputs": [],
   "source": [
    "sheet_names = pd.ExcelFile(BytesIO(data_link))"
   ]
  },
  {
   "cell_type": "code",
   "execution_count": 153,
   "id": "3a60205c-19ba-41b8-8c6d-bc3b8122e902",
   "metadata": {},
   "outputs": [
    {
     "data": {
      "text/plain": [
       "['Отчет по всем РК', 'Отчет по дням', 'Worksheet 1']"
      ]
     },
     "execution_count": 153,
     "metadata": {},
     "output_type": "execute_result"
    }
   ],
   "source": [
    "sheet_names.sheet_names"
   ]
  },
  {
   "cell_type": "code",
   "execution_count": 126,
   "id": "d0d0164d-561d-48ae-982b-d9cf76348888",
   "metadata": {},
   "outputs": [],
   "source": [
    "report_type = 'test'"
   ]
  },
  {
   "cell_type": "code",
   "execution_count": 170,
   "id": "af8d6831-7c98-4346-ab90-446a64087e0f",
   "metadata": {},
   "outputs": [],
   "source": [
    "tmp_video_dict = {}\n",
    "\n",
    "df = pd.read_excel(BytesIO(data_link), sheet_name='Отчет по дням', header=None)\n",
    "df = df.fillna('')\n",
    "\n",
    "# каждый продукт имеет свой диапазон строк\n",
    "# диапазон может отличаться (какие-то продукты запускаются раньше, какие-то позже)\n",
    "start_index_list = df[df[0]=='Дата'].index # забираем индекс строки для отсчета начала диапазона\n",
    "end_index_list = df[df[0]=='Итог'].index # забираем индекс строки для окончания диапазона\n",
    "\n",
    "df.columns = df.iloc[start_index_list[0]].str.lower().str.strip().str.replace('\\n', ' ') # забираем название полей из файла\n",
    "# привоодим названия к единому стандарту\n",
    "df = df.rename(columns={'дата': 'date', 'показы': 'impressions', 'клики': 'clicks', 'охват': 'reach'}) \n",
    "df = df[['date', 'impressions','reach', 'clicks']] # оставляем только нужные поля\n",
    "\n",
    "# теперь сформируем датаФрейм для каждого отдельного продукта\n",
    "# через цикл перебираем список индексов начала диапазона\n",
    "for i in range(len(start_index_list)):\n",
    "    start_index = start_index_list[i] # берем индекс начала\n",
    "    end_index = end_index_list[i] # берем индекс окончания\n",
    "\n",
    "    # название продукта находится сверху таблицы с данными. поэтому нам нужна предыдущая ячейка перед начальным индексом\n",
    "    product = df['date'][start_index-1] # забираем название продукта\n",
    "    # print(index_product_list[i])\n",
    "    df_tmp = df.iloc[start_index+1:end_index] # забираем строки из диапазона\n",
    "\n",
    "    df_tmp['source'] = 'one target'\n",
    "    df_tmp['format_type'] = 'video'\n",
    "    df_tmp['product'] =  product\n",
    "    df_tmp['date'] = pd.to_datetime(df_tmp['date']).dt.date # приводим в формат даты\n",
    "    # df_tmp = df_tmp[df_tmp['impressions']!=0] # убираем дни, в которых не было показов объявлений\n",
    "    df_tmp['product'] =  df_tmp['product'].str.lower().str.strip()\n",
    "    # сохраняем датаФрейм во временный словарь \n",
    "    # ключ - это название продукта (15s, 6s и тд)\n",
    "    df_tmp['report_type'] = report_type # сохраняем в отдельном поле - относится отчет к бонусным или нет\n",
    "    tmp_video_dict[product] = df_tmp"
   ]
  },
  {
   "cell_type": "code",
   "execution_count": 171,
   "id": "2b3c01ef-a162-42bd-892f-717ff76c3265",
   "metadata": {},
   "outputs": [
    {
     "data": {
      "text/plain": [
       "{'15Snew': 2        date impressions         reach clicks      source format_type  \\\n",
       " 3  2024-07-28       48993         35975    380  one target       video   \n",
       " 4  2024-07-29       46157  24165.968586    381  one target       video   \n",
       " 5  2024-07-30       29636  15355.440415    453  one target       video   \n",
       " 6  2024-07-31       24932  12985.416667    440  one target       video   \n",
       " \n",
       " 2 product report_type  \n",
       " 3  15snew        test  \n",
       " 4  15snew        test  \n",
       " 5  15snew        test  \n",
       " 6  15snew        test  ,\n",
       " '6snew': 2         date impressions         reach clicks      source format_type  \\\n",
       " 11  2024-07-28       48615         35697    300  one target       video   \n",
       " 12  2024-07-29       37744  19062.626263    280  one target       video   \n",
       " 13  2024-07-30       28745  14517.676768    300  one target       video   \n",
       " 14  2024-07-31       27439  14071.282051     54  one target       video   \n",
       " \n",
       " 2  product report_type  \n",
       " 11   6snew        test  \n",
       " 12   6snew        test  \n",
       " 13   6snew        test  \n",
       " 14   6snew        test  ,\n",
       " '15s': 2         date impressions         reach clicks      source format_type  \\\n",
       " 19  2024-07-17       21248  10785.786802     80  one target       video   \n",
       " 20  2024-07-18       35722  18225.510204    150  one target       video   \n",
       " 21  2024-07-19       27175       13587.5    127  one target       video   \n",
       " 22  2024-07-20       31098  16112.953368    128  one target       video   \n",
       " 23  2024-07-21       31654         15827    123  one target       video   \n",
       " 24  2024-07-22       50843  24561.835749    228  one target       video   \n",
       " 25  2024-07-23       46311  22264.903846    320  one target       video   \n",
       " 26  2024-07-24       48772  25011.282051    255  one target       video   \n",
       " 27  2024-07-25       46954  25657.923497    362  one target       video   \n",
       " 28  2024-07-26       49620         24810    370  one target       video   \n",
       " 29  2024-07-27       48689   25097.42268    320  one target       video   \n",
       " 30  2024-07-28           0             0      0  one target       video   \n",
       " 31  2024-07-29           0             0      0  one target       video   \n",
       " 32  2024-07-30           0             0      0  one target       video   \n",
       " 33  2024-07-31           0             0      0  one target       video   \n",
       " \n",
       " 2  product report_type  \n",
       " 19     15s        test  \n",
       " 20     15s        test  \n",
       " 21     15s        test  \n",
       " 22     15s        test  \n",
       " 23     15s        test  \n",
       " 24     15s        test  \n",
       " 25     15s        test  \n",
       " 26     15s        test  \n",
       " 27     15s        test  \n",
       " 28     15s        test  \n",
       " 29     15s        test  \n",
       " 30     15s        test  \n",
       " 31     15s        test  \n",
       " 32     15s        test  \n",
       " 33     15s        test  ,\n",
       " '6s': 2         date impressions         reach clicks      source format_type  \\\n",
       " 38  2024-07-17       21024  11426.086957     50  one target       video   \n",
       " 39  2024-07-18       35018  19346.961326    124  one target       video   \n",
       " 40  2024-07-19       28575  15529.891304     95  one target       video   \n",
       " 41  2024-07-20       34686  17787.692308    111  one target       video   \n",
       " 42  2024-07-21       30495  16483.783784     74  one target       video   \n",
       " 43  2024-07-22       50806  26324.352332    190  one target       video   \n",
       " 44  2024-07-23       46420  22533.980583    323  one target       video   \n",
       " 45  2024-07-24       48730  25380.208333    211  one target       video   \n",
       " 46  2024-07-25       47378  23571.144279    304  one target       video   \n",
       " 47  2024-07-26       49114  24075.490196    319  one target       video   \n",
       " 48  2024-07-27       48339   25849.73262    280  one target       video   \n",
       " 49  2024-07-28           0             0      0  one target       video   \n",
       " 50  2024-07-29           0             0      0  one target       video   \n",
       " 51  2024-07-30           0             0      0  one target       video   \n",
       " 52  2024-07-31           0             0      0  one target       video   \n",
       " \n",
       " 2  product report_type  \n",
       " 38      6s        test  \n",
       " 39      6s        test  \n",
       " 40      6s        test  \n",
       " 41      6s        test  \n",
       " 42      6s        test  \n",
       " 43      6s        test  \n",
       " 44      6s        test  \n",
       " 45      6s        test  \n",
       " 46      6s        test  \n",
       " 47      6s        test  \n",
       " 48      6s        test  \n",
       " 49      6s        test  \n",
       " 50      6s        test  \n",
       " 51      6s        test  \n",
       " 52      6s        test  }"
      ]
     },
     "execution_count": 171,
     "metadata": {},
     "output_type": "execute_result"
    }
   ],
   "source": [
    "tmp_video_dict"
   ]
  },
  {
   "cell_type": "code",
   "execution_count": null,
   "id": "df9a624c-81f9-4050-afd2-92e5cf78abbb",
   "metadata": {},
   "outputs": [],
   "source": [
    "\n"
   ]
  },
  {
   "cell_type": "code",
   "execution_count": null,
   "id": "7394726c-4c2d-48f2-946a-86fb9d0c8caf",
   "metadata": {},
   "outputs": [],
   "source": []
  },
  {
   "cell_type": "code",
   "execution_count": null,
   "id": "1ecdb560-8677-49f0-a9f7-b4ec1c71657d",
   "metadata": {},
   "outputs": [],
   "source": []
  },
  {
   "cell_type": "code",
   "execution_count": null,
   "id": "938e38a2-6f00-42c6-8d97-e69ed67ab0ee",
   "metadata": {},
   "outputs": [],
   "source": []
  },
  {
   "cell_type": "code",
   "execution_count": null,
   "id": "f8435bf6-a960-461d-90a5-466c517880bf",
   "metadata": {},
   "outputs": [],
   "source": []
  },
  {
   "cell_type": "code",
   "execution_count": null,
   "id": "f40f05e7-b0ec-4fbc-9e5b-e98ceb10be1e",
   "metadata": {},
   "outputs": [],
   "source": []
  },
  {
   "cell_type": "code",
   "execution_count": null,
   "id": "cca94e03-01ca-4246-abb6-f269dcd9d6c0",
   "metadata": {},
   "outputs": [],
   "source": []
  },
  {
   "cell_type": "code",
   "execution_count": null,
   "id": "d197c250-d279-4574-ab50-5245808925cd",
   "metadata": {},
   "outputs": [],
   "source": []
  },
  {
   "cell_type": "code",
   "execution_count": null,
   "id": "9646ed04-43b2-41b9-b68b-c5cb0d91f070",
   "metadata": {},
   "outputs": [],
   "source": [
    "# источник One target\n",
    "# тип отчета Видео реклама\n",
    "# Функция для обработки статистики по дням для обычных и бонусных размещений \n",
    "# Статистика по всем креативам на 2-м листе\n",
    "# Каждый креатив в отдельной таблице\n",
    "# Таблицы располагаются друг над другом\n",
    "def get_one_target_video_base_bonus_report(data_link, report_type):\n",
    "    tmp_video_dict = {}\n",
    "    \n",
    "    cols_range = 'A:E' # задаем диапазон полей, которые нам нужны\n",
    "    # чтобы не сохранять файл на комп, мы пробрасываем его сразу в Pandas\n",
    "    one_target_df = pd.read_excel(BytesIO(data_link), sheet_name='Отчет по дням', header=None, usecols=cols_range,\n",
    "                                  names=['date', 'impressions', 'clicks', 'CTR %', 'reach'])\n",
    "    one_target_df = one_target_df[['date', 'impressions', 'clicks', 'reach']] # убриаем лишние поля\n",
    "\n",
    "    # каждый продукт имеет свой диапазон строк\n",
    "    # диапазон может отличаться (какие-то продукты запускаются раньше, какие-то позже)\n",
    "    index_product_list = one_target_df[one_target_df['date']=='Дата'].index # забираем индекс строки для отсчета начала диапазона\n",
    "    total_row_list = one_target_df[one_target_df['date']=='Итог'].index # забираем индекс строки для окончания диапазона\n",
    "\n",
    "    # теперь сформируем датаФрейм для каждого отдельного продукта\n",
    "    # через цикл перебираем список индексов начала диапазона\n",
    "    for i in range(len(index_product_list)):\n",
    "        start_index = index_product_list[i] # берем индекс начала\n",
    "        end_index = total_row_list[i] # берем индекс окончания\n",
    "        # название продукта находится сверху таблицы с данными. поэтому нам нужна предыдущая ячейка перед начальным индексом\n",
    "        df_name = one_target_df['date'][start_index-1] # забираем название продукта\n",
    "        # print(index_product_list[i])\n",
    "        df = one_target_df.iloc[start_index+1:end_index] # забираем строки из диапазона\n",
    "\n",
    "        df['source'] = 'one target'\n",
    "        df['format_type'] = 'video'\n",
    "        df.insert(1, 'product', df_name, True) # добавляем статичное поле с названием продукта\n",
    "        df['date'] = pd.to_datetime(df['date']).dt.date # приводим в формат даты\n",
    "        df['product'] = df['product'].str.lower()\n",
    "        df = df[df['impressions']!=0] # убираем дни, в которых не было показов объявлений\n",
    "        # сохраняем датаФрейм во временный словарь \n",
    "        # ключ - это название продукта (15s, 6s и тд)\n",
    "        df['report_type'] = report_type # сохраняем в отдельном поле - относится отчет к бонусным или нет\n",
    "        tmp_video_dict[df_name] = df\n",
    "        \n",
    "    return pd.concat(tmp_video_dict, ignore_index=True)"
   ]
  },
  {
   "cell_type": "code",
   "execution_count": null,
   "id": "f6638034-2dce-488e-ac84-0fdf97b658c0",
   "metadata": {},
   "outputs": [],
   "source": []
  },
  {
   "cell_type": "code",
   "execution_count": null,
   "id": "35ffe016-ae09-4eb7-a67a-9410d8be9da6",
   "metadata": {},
   "outputs": [],
   "source": []
  },
  {
   "cell_type": "code",
   "execution_count": null,
   "id": "58ca26bb-2b77-45d2-87e4-b513cfae1e2a",
   "metadata": {},
   "outputs": [],
   "source": []
  },
  {
   "cell_type": "code",
   "execution_count": null,
   "id": "fb62101c-13ce-40ad-8b7e-b6c608742af6",
   "metadata": {},
   "outputs": [],
   "source": []
  }
 ],
 "metadata": {
  "kernelspec": {
   "display_name": "Python 3 (ipykernel)",
   "language": "python",
   "name": "python3"
  },
  "language_info": {
   "codemirror_mode": {
    "name": "ipython",
    "version": 3
   },
   "file_extension": ".py",
   "mimetype": "text/x-python",
   "name": "python",
   "nbconvert_exporter": "python",
   "pygments_lexer": "ipython3",
   "version": "3.11.7"
  }
 },
 "nbformat": 4,
 "nbformat_minor": 5
}
