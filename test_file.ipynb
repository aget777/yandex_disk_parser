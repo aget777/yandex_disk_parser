{
 "cells": [
  {
   "cell_type": "code",
   "execution_count": 1,
   "id": "c2ec9645-994c-48eb-83fe-1353d8d28a79",
   "metadata": {},
   "outputs": [
    {
     "name": "stdout",
     "output_type": "stream",
     "text": [
      "200\n"
     ]
    }
   ],
   "source": [
    "import pandas as pd\n",
    "import numpy as np\n",
    "from io import BytesIO\n",
    "import requests\n",
    "from urllib.parse import urlencode\n",
    "import urllib\n",
    "from requests.auth import HTTPBasicAuth\n",
    "from requests.exceptions import ChunkedEncodingError\n",
    "import os\n",
    "import json\n",
    "import yadisk\n",
    "from datetime import datetime, date, timedelta\n",
    "import locale\n",
    "from time import sleep\n",
    "import shutil\n",
    "import gc\n",
    "import turbodbc\n",
    "from turbodbc import connect\n",
    "import gc\n",
    "from pandas.api.types import is_string_dtype\n",
    "import numpy as np\n",
    "from sqlalchemy import create_engine\n",
    "import pyodbc\n",
    "import warnings\n",
    "\n",
    "\n",
    "pd.options.mode.chained_assignment = None\n",
    "\n",
    "\n",
    "# параметры подключения к нашей БД, в которую сохранить итоговые таблицы\n",
    "server_local = 'REGRU-54856\\MSSQLSERVER01'\n",
    "database_local = 'custom_tables_NL_2208' #'custom_tables_NL_2208' - БД для тестовой загрузки / 'NL_db_27082024' - БД для дашбодра НЛ\n",
    "conn_str_local = 'DRIVER={SQL Server};SERVER='+server_local+';DATABASE='+database_local+';'\n",
    "\n",
    "# указываем путь и название файла с токеном для Яндекс Диск\n",
    "file_path = r'C:\\Users\\o.bogomolov\\Desktop\\Jupyter_notebook\\32_NL_Yandex_Disk'\n",
    "file_name = 'yandex_token.txt'\n",
    "\n",
    "# сохраняем токен в отдельную переменную\n",
    "yandex_token = open(os.path.join(file_path, file_name), encoding='utf-8').read()\n",
    "# формируем заголовки для дальнейших запросов\n",
    "headers = {\n",
    "    'Content-Type': 'application/json', \n",
    "    'Accept': 'application/json', \n",
    "    'Authorization': f'OAuth {yandex_token}'\n",
    "}\n",
    "\n",
    "# указываем путь к основной папке, в которой храняться папки с флайтами\n",
    "main_folder = '/NL_отчеты_для_дашборда'\n",
    "\n",
    "# УРЛ для операций над опубликованными папками и файлами на Яндекс Диске\n",
    "base_public_url = 'https://cloud-api.yandex.net/v1/disk/public/resources?'  \n",
    "public_key = 'https://disk.yandex.ru/d/2iYr8zMm9Qgeug' # обычная ссылка на доступ к папке одного данного ФЛАЙТА из личного кабинета\n",
    "\n",
    "download_url = 'https://cloud-api.yandex.net/v1/disk/public/resources/download?' # УРЛ для скачивания эксель файлов из Яндекс Диска\n",
    "delete_url = 'https://cloud-api.yandex.net/v1/disk/resources?' # УРЛ для удаления папок и файлов на Яндекс Диске\n",
    "\n",
    "final_url = base_public_url + urlencode(dict(public_key=public_key))  # Формируем УРЛ для получения списка папок и файлов\n",
    "res = requests.get(final_url)  # Отправлем запрос на Яндекс диск, чтобы получить название папок и public key для скачивания файлов\n",
    "\n",
    "print(res.status_code)\n",
    "\n",
    "yandex_folders = res.json() # парсим ответ"
   ]
  },
  {
   "cell_type": "code",
   "execution_count": 2,
   "id": "161bc03c-7528-4267-afb3-77a959c63d2a",
   "metadata": {},
   "outputs": [],
   "source": [
    "# Включаем отображение всех колонок\n",
    "pd.set_option('display.max_columns', None)\n",
    "\n",
    "# Задаем ширину столбцов по контенту\n",
    "pd.set_option('display.max_colwidth', None)\n",
    "\n",
    "pd.set_option('display.max_rows', None)\n",
    "\n",
    "pd.options.mode.chained_assignment = None"
   ]
  },
  {
   "cell_type": "code",
   "execution_count": 3,
   "id": "90a48357-4332-403f-9371-9242811751e7",
   "metadata": {},
   "outputs": [],
   "source": [
    "# Создаем функцию для получения содержимого Яндекс диска\n",
    "#  на входе принимаем \n",
    "# - адрес запроса для скачивания файла\n",
    "# - public key, который мы получаем из ответа Яндекс при запросе информации по конкретной папке\n",
    "# - адрес папки\n",
    "# - лимит файлов (максимальное кол-во 80)\n",
    "def get_yandex_disk_responce(request_url, public_key, folder_path, limit=80):\n",
    "    res_url = request_url + urlencode(dict(public_key=public_key, path=folder_path, limit=limit)) # формируем строку запроса\n",
    "    res = requests.get(res_url) # отправляем запрос на сервер\n",
    "    yandex_responce = res.json() # получаем ответ и преобразуем его в json\n",
    "\n",
    "    return yandex_responce"
   ]
  },
  {
   "cell_type": "code",
   "execution_count": 4,
   "id": "1d99e039-3857-44da-a335-3d8ecec1af91",
   "metadata": {},
   "outputs": [
    {
     "name": "stdout",
     "output_type": "stream",
     "text": [
      "/01_new_sources_files\n",
      "one_target_video\n",
      "/02_regular_reports\n"
     ]
    }
   ],
   "source": [
    "public_key = yandex_folders['public_key']  # из ответа Яндекс забираем public_key, чтобы использовать его для скачивания файлов\n",
    "\n",
    "for i in range(len(yandex_folders['_embedded']['items'])): # через цикл проходим по ответу Яндекса и забираем названия вложенных папок\n",
    "    file_type = yandex_folders['_embedded']['items'][i]['type']\n",
    "    if file_type=='dir':   # если находим файлы с типом dir (папка), то забираем путь к этой папке\n",
    "        folder_path = yandex_folders['_embedded']['items'][i]['path']\n",
    "        print(folder_path)\n",
    "        yandex_responce = get_yandex_disk_responce(base_public_url, public_key, folder_path) # отправляем запрос, чтобы получить содержимое папки\n",
    "\n",
    "        # Через цикл проходим по папке с файлами\n",
    "        # Нас интересуют файлы эксель. Причем каждая экселька будет парситься по своему, т.к. они относятся к разным рекламным площадкам\n",
    "        \n",
    "        # Проходим через цикл по содержимому папки (отдельный флайт)\n",
    "        for i in range(len(yandex_responce['_embedded']['items'])):\n",
    "            file_info = yandex_responce['_embedded']['items'][i]\n",
    "            if file_info['type']=='file':  # если документ является фалйом(не папкой или изображением), то забираем его название \n",
    "                file_name = file_info['name'] # сохраняем название файла\n",
    "                if 'xls' in file_name: # еслит тип файла является xlsx, то уберем расширение и будем его использовать в качесвте названия отчета\n",
    "                    file_path = file_info['path']\n",
    "                    \n",
    "                    report_name = '.'.join(file_name.split('.')[:-1]) # убираем .xlsx из названия файла\n",
    "                    print(report_name)\n",
    "                    res_file_link = get_yandex_disk_responce(download_url, public_key, file_path) # получаем ссылку на скачивание отчета\n",
    "                    download_response = requests.get(res_file_link['href'])"
   ]
  },
  {
   "cell_type": "code",
   "execution_count": 5,
   "id": "72300c65-9a91-4fae-ac0b-e42eb32378fa",
   "metadata": {},
   "outputs": [],
   "source": [
    "data_link = download_response.content"
   ]
  },
  {
   "cell_type": "code",
   "execution_count": 6,
   "id": "5e2c698f-ed11-41c0-afa7-3c6ee4cd1bda",
   "metadata": {},
   "outputs": [],
   "source": [
    "sheet_names = pd.ExcelFile(BytesIO(data_link))"
   ]
  },
  {
   "cell_type": "code",
   "execution_count": 7,
   "id": "3a60205c-19ba-41b8-8c6d-bc3b8122e902",
   "metadata": {},
   "outputs": [
    {
     "data": {
      "text/plain": [
       "['Отчет по всем РК', 'Отчет по дням', 'Worksheet 1']"
      ]
     },
     "execution_count": 7,
     "metadata": {},
     "output_type": "execute_result"
    }
   ],
   "source": [
    "sheet_names.sheet_names"
   ]
  },
  {
   "cell_type": "code",
   "execution_count": 8,
   "id": "d0d0164d-561d-48ae-982b-d9cf76348888",
   "metadata": {},
   "outputs": [],
   "source": [
    "report_type = 'test'"
   ]
  },
  {
   "cell_type": "code",
   "execution_count": 14,
   "id": "787a893f-67e4-46d7-aee7-7cd175aba007",
   "metadata": {},
   "outputs": [],
   "source": [
    "cols_range = 'A:G' # задаем диапазон полей, которые нам нужны\n",
    "df = pd.read_excel(BytesIO(data_link), sheet_name='Отчет по всем РК', header=None, usecols=cols_range,\n",
    "               names=['product', 'impressions', '25', '50', '75', '100', 'VTR']) \n",
    "df = df[['product', 'impressions', '25', '50', '75', '100']] # оставляем только нужные поля\n",
    "\n",
    "# на этом листе нет разбивки по дням\n",
    "# в самом верху таблицы присутствует строка с указанием периода загрузки\n",
    "# из этой строки мы заберем период и сохраним его в двух отдельных полях - начало и окончание периода\n",
    "period = df['product'][0] # забираем текст из ячейки, которая содержит период\n",
    "period = period.split('период ', 1)[1]\n",
    "start_period = period.split(' - ', 1)[0] # начало периода отчета\n",
    "end_period = period.split(' - ', 1)[1] # окончание периода отчета\n",
    "\n",
    "# теперь нам необходимо забрать статистику досмотров в разбивке по каждому продукту\n",
    "# для этого получим индекс строк, которые нужно сохранить\n",
    "df = df.fillna('') # заполняем пустые строки\n",
    "target_rows_list = list(df[df['product'].str.contains('Досмотры')].index) # создаем список индексов строк, которые содержат данные\n",
    "df = df.iloc[target_rows_list] # передаем список индексов, чтобы отфильтровать датаФрейм\n",
    "\n",
    "# теперь необходимо извлечь из ячейки название продукта\n",
    "df['product'] = df['product'].apply(lambda x: x.split('Досмотры ', 1)[1])\n",
    "# добавляем название источника, даты начала и окончания\n",
    "df['source'] = 'one target'\n",
    "df['start_period'] = start_period\n",
    "df['end_period'] = end_period\n",
    "df['product'] = df['product'].str.lower().str.strip()\n",
    "df['report_type'] = report_type"
   ]
  },
  {
   "cell_type": "code",
   "execution_count": 15,
   "id": "4733fbd6-0d40-4c2f-ad85-4974cb1b8aa9",
   "metadata": {},
   "outputs": [
    {
     "data": {
      "text/html": [
       "<div>\n",
       "<style scoped>\n",
       "    .dataframe tbody tr th:only-of-type {\n",
       "        vertical-align: middle;\n",
       "    }\n",
       "\n",
       "    .dataframe tbody tr th {\n",
       "        vertical-align: top;\n",
       "    }\n",
       "\n",
       "    .dataframe thead th {\n",
       "        text-align: right;\n",
       "    }\n",
       "</style>\n",
       "<table border=\"1\" class=\"dataframe\">\n",
       "  <thead>\n",
       "    <tr style=\"text-align: right;\">\n",
       "      <th></th>\n",
       "      <th>product</th>\n",
       "      <th>impressions</th>\n",
       "      <th>25</th>\n",
       "      <th>50</th>\n",
       "      <th>75</th>\n",
       "      <th>100</th>\n",
       "      <th>source</th>\n",
       "      <th>start_period</th>\n",
       "      <th>end_period</th>\n",
       "      <th>report_type</th>\n",
       "    </tr>\n",
       "  </thead>\n",
       "  <tbody>\n",
       "    <tr>\n",
       "      <th>14</th>\n",
       "      <td>6s</td>\n",
       "      <td>440585</td>\n",
       "      <td>440581</td>\n",
       "      <td>401255</td>\n",
       "      <td>389087</td>\n",
       "      <td>349872.0</td>\n",
       "      <td>one target</td>\n",
       "      <td>2024-07-17</td>\n",
       "      <td>2024-07-31</td>\n",
       "      <td>test</td>\n",
       "    </tr>\n",
       "    <tr>\n",
       "      <th>18</th>\n",
       "      <td>6snew</td>\n",
       "      <td>142215</td>\n",
       "      <td>142213</td>\n",
       "      <td>138764</td>\n",
       "      <td>129097</td>\n",
       "      <td>122412.0</td>\n",
       "      <td>one target</td>\n",
       "      <td>2024-07-17</td>\n",
       "      <td>2024-07-31</td>\n",
       "      <td>test</td>\n",
       "    </tr>\n",
       "    <tr>\n",
       "      <th>25</th>\n",
       "      <td>15s</td>\n",
       "      <td>438086</td>\n",
       "      <td>438002</td>\n",
       "      <td>399471</td>\n",
       "      <td>301982</td>\n",
       "      <td>289762.0</td>\n",
       "      <td>one target</td>\n",
       "      <td>2024-07-17</td>\n",
       "      <td>2024-07-31</td>\n",
       "      <td>test</td>\n",
       "    </tr>\n",
       "    <tr>\n",
       "      <th>29</th>\n",
       "      <td>15snew</td>\n",
       "      <td>149442</td>\n",
       "      <td>149440</td>\n",
       "      <td>139766</td>\n",
       "      <td>120994</td>\n",
       "      <td>115642.0</td>\n",
       "      <td>one target</td>\n",
       "      <td>2024-07-17</td>\n",
       "      <td>2024-07-31</td>\n",
       "      <td>test</td>\n",
       "    </tr>\n",
       "  </tbody>\n",
       "</table>\n",
       "</div>"
      ],
      "text/plain": [
       "   product impressions      25      50      75       100      source  \\\n",
       "14      6s      440585  440581  401255  389087  349872.0  one target   \n",
       "18   6snew      142215  142213  138764  129097  122412.0  one target   \n",
       "25     15s      438086  438002  399471  301982  289762.0  one target   \n",
       "29  15snew      149442  149440  139766  120994  115642.0  one target   \n",
       "\n",
       "   start_period  end_period report_type  \n",
       "14   2024-07-17  2024-07-31        test  \n",
       "18   2024-07-17  2024-07-31        test  \n",
       "25   2024-07-17  2024-07-31        test  \n",
       "29   2024-07-17  2024-07-31        test  "
      ]
     },
     "execution_count": 15,
     "metadata": {},
     "output_type": "execute_result"
    }
   ],
   "source": [
    "df"
   ]
  },
  {
   "cell_type": "code",
   "execution_count": null,
   "id": "001a8114-bfce-4a94-b51a-232bb246cfd7",
   "metadata": {},
   "outputs": [],
   "source": []
  },
  {
   "cell_type": "code",
   "execution_count": null,
   "id": "de92f493-a671-416e-aacf-a9eb9330f03e",
   "metadata": {},
   "outputs": [],
   "source": []
  },
  {
   "cell_type": "code",
   "execution_count": null,
   "id": "3b0a1ce1-4a5e-4cf9-92c8-71801f59fdfa",
   "metadata": {},
   "outputs": [],
   "source": []
  },
  {
   "cell_type": "code",
   "execution_count": null,
   "id": "460f0d1c-12ef-4071-8678-3ac54a10cec1",
   "metadata": {},
   "outputs": [],
   "source": []
  },
  {
   "cell_type": "code",
   "execution_count": null,
   "id": "a4d09ee8-5501-43bb-95a9-c8fa6dec98a8",
   "metadata": {},
   "outputs": [],
   "source": []
  },
  {
   "cell_type": "code",
   "execution_count": null,
   "id": "e5bce96a-f6d0-4110-97bf-594d14e2fdbc",
   "metadata": {},
   "outputs": [],
   "source": []
  },
  {
   "cell_type": "code",
   "execution_count": null,
   "id": "a63568b8-d4ee-4640-acab-57b2e2800869",
   "metadata": {},
   "outputs": [],
   "source": []
  },
  {
   "cell_type": "code",
   "execution_count": null,
   "id": "a98b2896-8a48-4ecb-ba47-25feaf9e47bc",
   "metadata": {},
   "outputs": [],
   "source": []
  },
  {
   "cell_type": "code",
   "execution_count": null,
   "id": "fc047506-f719-43d7-88c5-6bf64bd23f88",
   "metadata": {},
   "outputs": [],
   "source": []
  },
  {
   "cell_type": "code",
   "execution_count": null,
   "id": "320b4793-1b15-4581-8cc5-34655a7752a3",
   "metadata": {},
   "outputs": [],
   "source": [
    "# Отдельно создаем функцию для парсинга досмотров по источнику One target\n",
    "# на входе функция принимает только ссылку для скачивания таблицы\n",
    "def get_one_target_views(data_link, report_type):\n",
    "    cols_range = 'A:G' # задаем диапазон полей, которые нам нужны\n",
    "    df = pd.read_excel(BytesIO(data_link), sheet_name='Отчет по всем РК', header=None, usecols=cols_range,\n",
    "                   names=['product', 'impressions', '25', '50', '75', '100', 'VTR']) \n",
    "    df = df[['product', 'impressions', '25', '50', '75', '100']] # оставляем только нужные поля\n",
    "\n",
    "    # на этом листе нет разбивки по дням\n",
    "    # в самом верху таблицы присутствует строка с указанием периода загрузки\n",
    "    # из этой строки мы заберем период и сохраним его в двух отдельных полях - начало и окончание периода\n",
    "    period = df['product'][0] # забираем текст из ячейки, которая содержит период\n",
    "    period = period.split('период ', 1)[1]\n",
    "    start_period = period.split(' - ', 1)[0] # начало периода отчета\n",
    "    end_period = period.split(' - ', 1)[1] # окончание периода отчета\n",
    "\n",
    "    # теперь нам необходимо забрать статистику досмотров в разбивке по каждому продукту\n",
    "    # для этого получим индекс строк, которые нужно сохранить\n",
    "    df = df.fillna('') # заполняем пустые строки\n",
    "    target_rows_list = list(df[df['product'].str.contains('Досмотры')].index) # создаем список индексов строк, которые содержат данные\n",
    "    df = df.iloc[target_rows_list] # передаем список индексов, чтобы отфильтровать датаФрейм\n",
    "\n",
    "    # теперь необходимо извлечь из ячейки название продукта\n",
    "    df['product'] = df['product'].apply(lambda x: x.split('Досмотры ', 1)[1])\n",
    "    # добавляем название источника, даты начала и окончания\n",
    "    df['source'] = 'one target'\n",
    "    df['start_period'] = start_period\n",
    "    df['end_period'] = end_period\n",
    "    df['product'] = df['product'].str.lower().str.strip()\n",
    "    df['report_type'] = report_type\n",
    "    return df"
   ]
  },
  {
   "cell_type": "code",
   "execution_count": null,
   "id": "f70f18bb-3e59-4990-934b-d20ae8fb9ea7",
   "metadata": {},
   "outputs": [],
   "source": []
  },
  {
   "cell_type": "code",
   "execution_count": null,
   "id": "4e6ce795-37e8-4ea1-a74b-36c2697c03cf",
   "metadata": {},
   "outputs": [],
   "source": []
  },
  {
   "cell_type": "code",
   "execution_count": null,
   "id": "fb62101c-13ce-40ad-8b7e-b6c608742af6",
   "metadata": {},
   "outputs": [],
   "source": []
  }
 ],
 "metadata": {
  "kernelspec": {
   "display_name": "Python 3 (ipykernel)",
   "language": "python",
   "name": "python3"
  },
  "language_info": {
   "codemirror_mode": {
    "name": "ipython",
    "version": 3
   },
   "file_extension": ".py",
   "mimetype": "text/x-python",
   "name": "python",
   "nbconvert_exporter": "python",
   "pygments_lexer": "ipython3",
   "version": "3.11.7"
  }
 },
 "nbformat": 4,
 "nbformat_minor": 5
}
