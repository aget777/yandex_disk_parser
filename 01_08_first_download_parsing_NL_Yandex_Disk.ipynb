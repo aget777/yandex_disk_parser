{
 "cells": [
  {
   "cell_type": "code",
   "execution_count": 1,
   "id": "f54a8dd6-e9b4-4c9e-8e76-39adc203dfcd",
   "metadata": {},
   "outputs": [
    {
     "name": "stdout",
     "output_type": "stream",
     "text": [
      "200\n"
     ]
    }
   ],
   "source": [
    "import pandas as pd\n",
    "from io import BytesIO\n",
    "import requests\n",
    "from urllib.parse import urlencode\n",
    "import urllib\n",
    "from requests.auth import HTTPBasicAuth\n",
    "from requests.exceptions import ChunkedEncodingError\n",
    "import os\n",
    "import json\n",
    "import yadisk\n",
    "from datetime import datetime, date, timedelta\n",
    "import locale\n",
    "from time import sleep\n",
    "import shutil\n",
    "import gc\n",
    "import turbodbc\n",
    "from turbodbc import connect\n",
    "import gc\n",
    "from pandas.api.types import is_string_dtype\n",
    "import numpy as np\n",
    "from sqlalchemy import create_engine\n",
    "import pyodbc\n",
    "import warnings\n",
    "from parse_custom_report import *\n",
    "from yandex_disk_func import *\n",
    "from db_func import *\n",
    "from one_target_parse_func import *\n",
    "\n",
    "pd.options.mode.chained_assignment = None\n",
    "\n",
    "\n",
    "# параметры подключения к нашей БД, в которую сохранить итоговые таблицы\n",
    "server_local = 'REGRU-54856\\MSSQLSERVER01'\n",
    "database_local = 'custom_tables_NL_2208' #'custom_tables_NL_2208' - БД для тестовой загрузки / 'NL_db_27082024' - БД для дашбодра НЛ\n",
    "\n",
    "# указываем путь и название файла с токеном для Яндекс Диск\n",
    "file_path = r'C:\\Users\\o.bogomolov\\Desktop\\Jupyter_notebook\\32_NL_Yandex_Disk'\n",
    "file_name = 'yandex_token.txt'\n",
    "\n",
    "# сохраняем токен в отдельную переменную\n",
    "yandex_token = open(os.path.join(file_path, file_name), encoding='utf-8').read()\n",
    "\n",
    "\n",
    "# указываем путь к основной папке, в которой храняться папки с флайтами\n",
    "main_folder = '/NL_отчеты_для_дашборда'\n",
    "public_key = 'https://disk.yandex.ru/d/2iYr8zMm9Qgeug' # обычная ссылка на доступ к папке одного данного ФЛАЙТА из личного кабинета\n",
    "\n",
    "# забираем список папок в нужной нам директории\n",
    "res = get_yandex_disk_folders(public_key)\n",
    "yandex_folders = res.json() # парсим ответ"
   ]
  },
  {
   "cell_type": "code",
   "execution_count": 2,
   "id": "b52e5e0e-4539-4d6e-8365-edaa0f9358c3",
   "metadata": {},
   "outputs": [],
   "source": [
    "# Включаем отображение всех колонок\n",
    "pd.set_option('display.max_columns', None)\n",
    "\n",
    "# Задаем ширину столбцов по контенту\n",
    "pd.set_option('display.max_colwidth', None)\n",
    "\n",
    "pd.set_option('display.max_rows', None)\n",
    "\n",
    "pd.options.mode.chained_assignment = None"
   ]
  },
  {
   "cell_type": "code",
   "execution_count": 3,
   "id": "fec5cee0-e373-4245-b4e8-6a66d8195d5c",
   "metadata": {},
   "outputs": [],
   "source": [
    "# создаем словарь, где сохраним каждый продукт в отдельный датаФрейм со своим ключом\n",
    "report_video_dict = {}\n",
    "report_banner_dict = {}\n",
    "report_video_views_dict = {}"
   ]
  },
  {
   "cell_type": "code",
   "execution_count": 4,
   "id": "1af5a6e9-a46e-409c-a8c6-cbe8e4fbc291",
   "metadata": {},
   "outputs": [
    {
     "name": "stdout",
     "output_type": "stream",
     "text": [
      "/01_new_sources_files\n",
      "astralab_banner\n",
      "gnezdo_banner\n",
      "/02_regular_reports\n"
     ]
    }
   ],
   "source": [
    "# вызываем функцию, которая проходит по файлам в определенной папке на Яндекс диске\n",
    "# если в файл эксель, то она его парсит\n",
    "# в зависимости от типа креатива (Видео, Баннер или агрегированные просмотры)\n",
    "# статистика сохраняется в соответсвующий словарь\n",
    "get_data_from_ya_folder(yandex_folders, main_folder, file_path, yandex_token,\n",
    "                                              report_video_dict, report_banner_dict, report_video_views_dict, flag='new')"
   ]
  },
  {
   "cell_type": "code",
   "execution_count": 5,
   "id": "95a11568-a3a8-4331-ba80-aafaaeb7c9bd",
   "metadata": {},
   "outputs": [],
   "source": [
    "# report_video_dict"
   ]
  },
  {
   "cell_type": "code",
   "execution_count": 6,
   "id": "44084de1-dfc7-4284-9a9c-bc1a82df78a0",
   "metadata": {},
   "outputs": [],
   "source": [
    "# report_banner_dict"
   ]
  },
  {
   "cell_type": "code",
   "execution_count": 7,
   "id": "5fa344b8-1131-4af9-b625-4cda1ad8cb5e",
   "metadata": {},
   "outputs": [],
   "source": [
    "# report_video_views_dict"
   ]
  },
  {
   "cell_type": "code",
   "execution_count": 8,
   "id": "206a531a-8492-42bc-ae68-10c1c67c4a16",
   "metadata": {},
   "outputs": [],
   "source": [
    "# создаем общий список названий полей и типов данных\n",
    "# он подходит и для video, и для banner\n",
    "# специфические поля для video Отдельно описали в функции при создании таблицы в БД\n",
    "# этот список передаем в БД для создания новой таблицы\n",
    "\n",
    "db_vars_str = [\n",
    "            'date nvarchar(10)',\n",
    "            'source nvarchar(20)',\n",
    "            'format_type nvarchar(20)',\n",
    "            'report_type nvarchar(20)',\n",
    "            'product nvarchar(150)',\n",
    "            'impressions int',\n",
    "            'clicks int',\n",
    "            'reach float',\n",
    "            'budget float']"
   ]
  },
  {
   "cell_type": "code",
   "execution_count": 9,
   "id": "8a529318-ad3a-4fce-a74d-e7f44261a6dd",
   "metadata": {},
   "outputs": [
    {
     "name": "stdout",
     "output_type": "stream",
     "text": [
      "Пустая таблица video_stat_table успешно создана в БД custom_tables_NL_2208\n",
      "Пустая таблица banner_stat_table успешно создана в БД custom_tables_NL_2208\n"
     ]
    }
   ],
   "source": [
    "# создаем пустую таблицы в БД\n",
    "# Статистика по Видео рекламе\n",
    "reCreateDBTable(server_local, database_local, 'video_stat_table', db_vars_str, table_type='video')\n",
    "\n",
    "# статистика по Баннерам\n",
    "reCreateDBTable(server_local, database_local, 'banner_stat_table', db_vars_str, table_type='banner')"
   ]
  },
  {
   "cell_type": "code",
   "execution_count": 10,
   "id": "f37f85e3-7b2f-4767-a28a-5c9c6ad2fd7c",
   "metadata": {},
   "outputs": [],
   "source": [
    "# если есть файлы со статистикой по Видео объявленияем, то запускаем блок обработки этой статистики\n",
    "if report_video_dict:\n",
    "    \n",
    "    # создаем спец.датаФрейм для расчета досмотрров по дням для источника One Target\n",
    "    one_target_df = pd.DataFrame()\n",
    "    one_target_views_df = pd.DataFrame()\n",
    "    \n",
    "    # перебираем через цикл словарь со статистикой видео объявлений\n",
    "    # если нам встречаются ключи, которые относятся к one target\n",
    "    # сохраняем данные в датаФрейм\n",
    "    # удаляем эти ключи в словаре\n",
    "    for key in list(report_video_dict.keys()):\n",
    "        if 'one_target' in key:\n",
    "            one_target_df = pd.concat([one_target_df, report_video_dict[key]], ignore_index=True)\n",
    "            del report_video_dict[key]\n",
    "\n",
    "    # перебираем через цикл словарь со статистикой видео объявлений\n",
    "    # если нам встречаются ключи, которые относятся к one target\n",
    "    # сохраняем данные в датаФрейм\n",
    "    # удаляем эти ключи в словаре\n",
    "    for key in list(report_video_views_dict.keys()):\n",
    "        if 'one_target' in key:\n",
    "            one_target_views_df = pd.concat([one_target_views_df, report_video_views_dict[key]], ignore_index=True)\n",
    "            del report_video_views_dict[key]\n",
    "\n",
    "    # если датаФрейм НЕ пустой со статистикой по источнику one target\n",
    "    # то вызываем функцию для расчета просмотров по дням\n",
    "    if not one_target_df.empty:\n",
    "        report_video_dict['one_target'], report_video_views_dict['one_target'] = get_first_one_target_data(one_target_df, one_target_views_df)\n",
    "\n",
    "    union_video_df = pd.concat(report_video_dict, ignore_index=True)\n",
    "    union_video_df = union_video_df.fillna(0)\n",
    "    \n",
    "    if 'budget' not in union_video_df.columns.tolist(): # Проверяем, если этого поля нет в датаФрейме, то создаем его\n",
    "        union_video_df['budget'] = 0\n",
    "    # создаем общую таблицу со статистикой по video\n",
    "    # вызываем функцию нормализации данных и прямо в нее передает функцию с объединением датаФрейма\n",
    "    union_video_df = normalizeDataTypes(union_video_df, table_type='video')\n",
    "    \n",
    "    # приводим название полей к итоговому стандарту\n",
    "    union_video_df = union_video_df.rename(columns={'25': 'video_views_25', '50': 'video_views_50',\n",
    "                                                   '75': 'video_views_75', '100': 'video_views_100'})\n",
    "    \n",
    "    # записываем статистику в БД\n",
    "    downloadTableToDB(server_local, database_local, 'video_stat_table', union_video_df)"
   ]
  },
  {
   "cell_type": "code",
   "execution_count": 11,
   "id": "f3b0897a-f378-4c07-8bc0-ec1a078b5aff",
   "metadata": {},
   "outputs": [
    {
     "ename": "NameError",
     "evalue": "name 'union_video_df' is not defined",
     "output_type": "error",
     "traceback": [
      "\u001b[1;31m---------------------------------------------------------------------------\u001b[0m",
      "\u001b[1;31mNameError\u001b[0m                                 Traceback (most recent call last)",
      "Cell \u001b[1;32mIn[11], line 1\u001b[0m\n\u001b[1;32m----> 1\u001b[0m union_video_df\n",
      "\u001b[1;31mNameError\u001b[0m: name 'union_video_df' is not defined"
     ]
    }
   ],
   "source": []
  },
  {
   "cell_type": "code",
   "execution_count": null,
   "id": "9498df9b-a557-4c0f-b66b-86f57916992f",
   "metadata": {},
   "outputs": [],
   "source": []
  },
  {
   "cell_type": "code",
   "execution_count": null,
   "id": "dd03454d-56bf-4e06-8f2d-7a4e58392f90",
   "metadata": {},
   "outputs": [],
   "source": []
  },
  {
   "cell_type": "code",
   "execution_count": 12,
   "id": "79cd6cb7-51b3-4b5b-8e6e-81c4d516580f",
   "metadata": {},
   "outputs": [
    {
     "name": "stdout",
     "output_type": "stream",
     "text": [
      "Connect success\n",
      "Скрипт запущен 2024-09-25 16:14:01.403147\n",
      "Данные добавлены в БД: custom_tables_NL_2208, таблица: banner_stat_table\n",
      "Скрипт отработал 2024-09-25 16:14:01.425140\n",
      "Время выполнения задачи: 0:00:00.021993\n",
      "Загрузка завершена. Данные успешно добавлены в БД: custom_tables_NL_2208\n",
      "##################################################\n",
      "\n"
     ]
    }
   ],
   "source": [
    "# если есть статистика по Баннерам, то запускаем блок обработки таких данных\n",
    "if report_banner_dict:\n",
    "\n",
    "    # создаем один большой датаФрейм со статистикой по баннерам\n",
    "    union_banner_df = pd.concat(report_banner_dict, ignore_index=True)\n",
    "    if 'views' not in union_banner_df.columns.tolist(): # Проверяем, если этого поля нет в датаФрейме, то создаем его\n",
    "        union_banner_df['views'] = 0\n",
    "    if 'reach' not in union_banner_df.columns.tolist(): # Проверяем, если этого поля нет в датаФрейме, то создаем его\n",
    "        union_banner_df['reach'] = 0\n",
    "\n",
    "    if 'budget' not in union_banner_df.columns.tolist(): # Проверяем, если этого поля нет в датаФрейме, то создаем его\n",
    "        union_banner_df['budget'] = 0\n",
    "        \n",
    "    union_banner_df = union_banner_df.fillna(0)\n",
    "    # нормализуем типы данных \n",
    "    union_banner_df = normalizeDataTypes(union_banner_df, table_type='banner') \n",
    "    \n",
    "    # записываем статистику в БД\n",
    "    downloadTableToDB(server_local, database_local, 'banner_stat_table', union_banner_df)"
   ]
  },
  {
   "cell_type": "code",
   "execution_count": null,
   "id": "95b964e5-33ae-4cf8-b2cb-9cd299aa2e22",
   "metadata": {},
   "outputs": [],
   "source": [
    "            "
   ]
  },
  {
   "cell_type": "code",
   "execution_count": 13,
   "id": "4273713b-488b-490d-a4fe-e5735fc7fb3a",
   "metadata": {},
   "outputs": [],
   "source": [
    "db_vars_str = [\n",
    "            'start_period nvarchar(10)',\n",
    "            'end_period nvarchar(10)',\n",
    "            'min_date nvarchar(10)',\n",
    "            'max_date nvarchar(10)',\n",
    "            'source nvarchar(20)',\n",
    "            'product nvarchar(100)',\n",
    "            'report_type nvarchar(20)']"
   ]
  },
  {
   "cell_type": "code",
   "execution_count": 14,
   "id": "b80feb31-c6cc-470b-94a1-fa070bd39544",
   "metadata": {},
   "outputs": [
    {
     "name": "stdout",
     "output_type": "stream",
     "text": [
      "Пустая таблица one_target_video_views успешно создана в БД custom_tables_NL_2208\n"
     ]
    }
   ],
   "source": [
    "# создаем пустую таблицы в БД\n",
    "# Статистика по Видео рекламе\n",
    "reCreateDBTable(server_local, database_local, 'one_target_video_views', db_vars_str, table_type='video')"
   ]
  },
  {
   "cell_type": "code",
   "execution_count": 15,
   "id": "99692f65-4281-4c4c-84f5-ac1b23aa6407",
   "metadata": {},
   "outputs": [],
   "source": [
    "# если есть статистика по досмотрам, то нормализуем данные и заливаем в БД\n",
    "if report_video_views_dict:\n",
    "    # вызываем функцию нормализации данных для таблицы досмотров\n",
    "    report_video_views_df = normalizeDataTypes(pd.concat(report_video_views_dict, ignore_index=True), \n",
    "                                                                                table_type='video_views') \n",
    "    \n",
    "    report_video_views_df =  report_video_views_df.rename(columns={\n",
    "        '25': 'video_views_25', '50': 'video_views_50', '75': 'video_views_75', '100': 'video_views_100'\n",
    "    })\n",
    "\n",
    "    # вызываем функцию для добавления в БД таблицы с досмотрами\n",
    "    downloadTableToDB(server_local, database_local, 'one_target_video_views', report_video_views_df)"
   ]
  },
  {
   "cell_type": "code",
   "execution_count": null,
   "id": "35d23db8-1911-4d99-a4fc-af058371a0a8",
   "metadata": {},
   "outputs": [],
   "source": []
  },
  {
   "cell_type": "code",
   "execution_count": null,
   "id": "5a2c9a68-f417-4dd2-b8c4-f84807f8f423",
   "metadata": {},
   "outputs": [],
   "source": [
    "%reset -f"
   ]
  },
  {
   "cell_type": "code",
   "execution_count": null,
   "id": "8d855c78-1607-402c-9236-1dca566dfbf7",
   "metadata": {},
   "outputs": [],
   "source": []
  },
  {
   "cell_type": "code",
   "execution_count": null,
   "id": "c95055ee-99e3-421c-af23-97cab8477b5d",
   "metadata": {},
   "outputs": [],
   "source": []
  },
  {
   "cell_type": "code",
   "execution_count": null,
   "id": "41d723a0-1f2b-4ae5-b4ec-9388b5f96db8",
   "metadata": {},
   "outputs": [],
   "source": []
  }
 ],
 "metadata": {
  "kernelspec": {
   "display_name": "Python 3 (ipykernel)",
   "language": "python",
   "name": "python3"
  },
  "language_info": {
   "codemirror_mode": {
    "name": "ipython",
    "version": 3
   },
   "file_extension": ".py",
   "mimetype": "text/x-python",
   "name": "python",
   "nbconvert_exporter": "python",
   "pygments_lexer": "ipython3",
   "version": "3.11.7"
  }
 },
 "nbformat": 4,
 "nbformat_minor": 5
}
